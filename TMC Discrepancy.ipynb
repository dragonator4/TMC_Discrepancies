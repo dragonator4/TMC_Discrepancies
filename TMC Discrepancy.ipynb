{
 "metadata": {
  "name": "",
  "signature": "sha256:100e645d052eb26304b527ca6e0b945ec169e1bb24878f8569101a6c57494652"
 },
 "nbformat": 3,
 "nbformat_minor": 0,
 "worksheets": [
  {
   "cells": [
    {
     "cell_type": "heading",
     "level": 1,
     "metadata": {},
     "source": [
      "TMC Discrepancy"
     ]
    },
    {
     "cell_type": "heading",
     "level": 2,
     "metadata": {},
     "source": [
      "Preliminary imports and reads"
     ]
    },
    {
     "cell_type": "code",
     "collapsed": false,
     "input": [
      "import pandas as pd\n",
      "OldTMC = pd.read_csv('C:/Projects/v3.7.1009_TMC_Table.csv')\n",
      "NewTMC = pd.read_csv('C:/Projects/i95 primary tmc v1303 hires 20140217.csv')"
     ],
     "language": "python",
     "metadata": {},
     "outputs": [],
     "prompt_number": 1
    },
    {
     "cell_type": "heading",
     "level": 3,
     "metadata": {},
     "source": [
      "Old TMC"
     ]
    },
    {
     "cell_type": "code",
     "collapsed": false,
     "input": [
      "OldTMC[OldTMC['TMC'] == '103+04480']"
     ],
     "language": "python",
     "metadata": {},
     "outputs": [
      {
       "html": [
        "<div style=\"max-height:1000px;max-width:1500px;overflow:auto;\">\n",
        "<table border=\"1\" class=\"dataframe\">\n",
        "  <thead>\n",
        "    <tr style=\"text-align: right;\">\n",
        "      <th></th>\n",
        "      <th>TMC</th>\n",
        "      <th>Type</th>\n",
        "      <th>RoadNumber</th>\n",
        "      <th>RoadName</th>\n",
        "      <th>FirstName</th>\n",
        "      <th>LinearTMC</th>\n",
        "      <th>Country</th>\n",
        "      <th>State</th>\n",
        "      <th>County</th>\n",
        "      <th>Zip</th>\n",
        "      <th>Direction</th>\n",
        "      <th>StartLat</th>\n",
        "      <th>StartLong</th>\n",
        "      <th>EndLat</th>\n",
        "      <th>EndLong</th>\n",
        "      <th>Miles</th>\n",
        "    </tr>\n",
        "  </thead>\n",
        "  <tbody>\n",
        "    <tr>\n",
        "      <th>186638</th>\n",
        "      <td> 103+04480</td>\n",
        "      <td> P1.11</td>\n",
        "      <td> US-422</td>\n",
        "      <td> NaN</td>\n",
        "      <td> 1st Ave</td>\n",
        "      <td> 10300066</td>\n",
        "      <td> USA</td>\n",
        "      <td> PA</td>\n",
        "      <td> MONTGOMERY</td>\n",
        "      <td> 19087</td>\n",
        "      <td> Westbound</td>\n",
        "      <td> 40.080563</td>\n",
        "      <td>-75.407515</td>\n",
        "      <td> 40.091783</td>\n",
        "      <td>-75.415967</td>\n",
        "      <td> 0.894816</td>\n",
        "    </tr>\n",
        "  </tbody>\n",
        "</table>\n",
        "</div>"
       ],
       "metadata": {},
       "output_type": "pyout",
       "prompt_number": 2,
       "text": [
        "              TMC   Type RoadNumber RoadName FirstName  LinearTMC Country  \\\n",
        "186638  103+04480  P1.11     US-422      NaN   1st Ave   10300066     USA   \n",
        "\n",
        "       State      County    Zip  Direction   StartLat  StartLong     EndLat  \\\n",
        "186638    PA  MONTGOMERY  19087  Westbound  40.080563 -75.407515  40.091783   \n",
        "\n",
        "          EndLong     Miles  \n",
        "186638 -75.415967  0.894816  "
       ]
      }
     ],
     "prompt_number": 2
    },
    {
     "cell_type": "heading",
     "level": 3,
     "metadata": {},
     "source": [
      "New TMC"
     ]
    },
    {
     "cell_type": "code",
     "collapsed": false,
     "input": [
      "NewTMC[NewTMC['TMC'] == '103+04480']"
     ],
     "language": "python",
     "metadata": {},
     "outputs": [
      {
       "html": [
        "<div style=\"max-height:1000px;max-width:1500px;overflow:auto;\">\n",
        "<table border=\"1\" class=\"dataframe\">\n",
        "  <thead>\n",
        "    <tr style=\"text-align: right;\">\n",
        "      <th></th>\n",
        "      <th>TMC</th>\n",
        "      <th>Type</th>\n",
        "      <th>RoadNumber</th>\n",
        "      <th>RoadName</th>\n",
        "      <th>FirstName</th>\n",
        "      <th>LinearTMC</th>\n",
        "      <th>Country</th>\n",
        "      <th>State</th>\n",
        "      <th>County</th>\n",
        "      <th>Zip</th>\n",
        "      <th>Direction</th>\n",
        "      <th>StartLat</th>\n",
        "      <th>StartLong</th>\n",
        "      <th>EndLat</th>\n",
        "      <th>EndLong</th>\n",
        "      <th>Miles</th>\n",
        "    </tr>\n",
        "  </thead>\n",
        "  <tbody>\n",
        "    <tr>\n",
        "      <th>168423</th>\n",
        "      <td> 103+04480</td>\n",
        "      <td> P1.11</td>\n",
        "      <td> US-422</td>\n",
        "      <td> NaN</td>\n",
        "      <td> 1st Ave</td>\n",
        "      <td> 10300066</td>\n",
        "      <td> USA</td>\n",
        "      <td> PA</td>\n",
        "      <td> Montgomery</td>\n",
        "      <td> 19406</td>\n",
        "      <td> Westbound</td>\n",
        "      <td> 40.080563</td>\n",
        "      <td>-75.407515</td>\n",
        "      <td> 40.091783</td>\n",
        "      <td>-75.415967</td>\n",
        "      <td> 0.594723</td>\n",
        "    </tr>\n",
        "  </tbody>\n",
        "</table>\n",
        "</div>"
       ],
       "metadata": {},
       "output_type": "pyout",
       "prompt_number": 3,
       "text": [
        "              TMC   Type RoadNumber RoadName FirstName  LinearTMC Country  \\\n",
        "168423  103+04480  P1.11     US-422      NaN   1st Ave   10300066     USA   \n",
        "\n",
        "       State      County    Zip  Direction   StartLat  StartLong     EndLat  \\\n",
        "168423    PA  Montgomery  19406  Westbound  40.080563 -75.407515  40.091783   \n",
        "\n",
        "          EndLong     Miles  \n",
        "168423 -75.415967  0.594723  "
       ]
      }
     ],
     "prompt_number": 3
    }
   ],
   "metadata": {}
  }
 ]
}